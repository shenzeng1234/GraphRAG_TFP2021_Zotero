{
  "cells": [
    {
      "cell_type": "code",
      "execution_count": 1,
      "metadata": {
        "id": "5Tflw96wu75P",
        "colab": {
          "base_uri": "https://localhost:8080/"
        },
        "outputId": "ebe3c249-4408-45d4-ab4c-5bfb437f1546"
      },
      "outputs": [
        {
          "output_type": "stream",
          "name": "stdout",
          "text": [
            "Requirement already satisfied: pyzotero in /usr/local/lib/python3.11/dist-packages (1.6.9)\n",
            "Requirement already satisfied: chromadb in /usr/local/lib/python3.11/dist-packages (0.6.3)\n",
            "Requirement already satisfied: thepipe-api in /usr/local/lib/python3.11/dist-packages (1.4.0)\n",
            "Requirement already satisfied: tqdm in /usr/local/lib/python3.11/dist-packages (4.67.1)\n",
            "Requirement already satisfied: PyMuPDF in /usr/local/lib/python3.11/dist-packages (1.25.3)\n",
            "Requirement already satisfied: feedparser>=6.0.11 in /usr/local/lib/python3.11/dist-packages (from pyzotero) (6.0.11)\n",
            "Requirement already satisfied: pytz in /usr/local/lib/python3.11/dist-packages (from pyzotero) (2025.1)\n",
            "Requirement already satisfied: bibtexparser in /usr/local/lib/python3.11/dist-packages (from pyzotero) (1.4.3)\n",
            "Requirement already satisfied: httpx>=0.28.1 in /usr/local/lib/python3.11/dist-packages (from pyzotero) (0.28.1)\n",
            "Requirement already satisfied: build>=1.0.3 in /usr/local/lib/python3.11/dist-packages (from chromadb) (1.2.2.post1)\n",
            "Requirement already satisfied: pydantic>=1.9 in /usr/local/lib/python3.11/dist-packages (from chromadb) (2.10.6)\n",
            "Requirement already satisfied: chroma-hnswlib==0.7.6 in /usr/local/lib/python3.11/dist-packages (from chromadb) (0.7.6)\n",
            "Requirement already satisfied: fastapi>=0.95.2 in /usr/local/lib/python3.11/dist-packages (from chromadb) (0.115.8)\n",
            "Requirement already satisfied: uvicorn>=0.18.3 in /usr/local/lib/python3.11/dist-packages (from uvicorn[standard]>=0.18.3->chromadb) (0.34.0)\n",
            "Requirement already satisfied: numpy>=1.22.5 in /usr/local/lib/python3.11/dist-packages (from chromadb) (1.26.4)\n",
            "Requirement already satisfied: posthog>=2.4.0 in /usr/local/lib/python3.11/dist-packages (from chromadb) (3.15.1)\n",
            "Requirement already satisfied: typing_extensions>=4.5.0 in /usr/local/lib/python3.11/dist-packages (from chromadb) (4.12.2)\n",
            "Requirement already satisfied: onnxruntime>=1.14.1 in /usr/local/lib/python3.11/dist-packages (from chromadb) (1.20.1)\n",
            "Requirement already satisfied: opentelemetry-api>=1.2.0 in /usr/local/lib/python3.11/dist-packages (from chromadb) (1.30.0)\n",
            "Requirement already satisfied: opentelemetry-exporter-otlp-proto-grpc>=1.2.0 in /usr/local/lib/python3.11/dist-packages (from chromadb) (1.30.0)\n",
            "Requirement already satisfied: opentelemetry-instrumentation-fastapi>=0.41b0 in /usr/local/lib/python3.11/dist-packages (from chromadb) (0.51b0)\n",
            "Requirement already satisfied: opentelemetry-sdk>=1.2.0 in /usr/local/lib/python3.11/dist-packages (from chromadb) (1.30.0)\n",
            "Requirement already satisfied: tokenizers>=0.13.2 in /usr/local/lib/python3.11/dist-packages (from chromadb) (0.21.0)\n",
            "Requirement already satisfied: pypika>=0.48.9 in /usr/local/lib/python3.11/dist-packages (from chromadb) (0.48.9)\n",
            "Requirement already satisfied: overrides>=7.3.1 in /usr/local/lib/python3.11/dist-packages (from chromadb) (7.7.0)\n",
            "Requirement already satisfied: importlib-resources in /usr/local/lib/python3.11/dist-packages (from chromadb) (6.5.2)\n",
            "Requirement already satisfied: grpcio>=1.58.0 in /usr/local/lib/python3.11/dist-packages (from chromadb) (1.70.0)\n",
            "Requirement already satisfied: bcrypt>=4.0.1 in /usr/local/lib/python3.11/dist-packages (from chromadb) (4.2.1)\n",
            "Requirement already satisfied: typer>=0.9.0 in /usr/local/lib/python3.11/dist-packages (from chromadb) (0.15.1)\n",
            "Requirement already satisfied: kubernetes>=28.1.0 in /usr/local/lib/python3.11/dist-packages (from chromadb) (32.0.1)\n",
            "Requirement already satisfied: tenacity>=8.2.3 in /usr/local/lib/python3.11/dist-packages (from chromadb) (8.5.0)\n",
            "Requirement already satisfied: PyYAML>=6.0.0 in /usr/local/lib/python3.11/dist-packages (from chromadb) (6.0.2)\n",
            "Requirement already satisfied: mmh3>=4.0.1 in /usr/local/lib/python3.11/dist-packages (from chromadb) (5.1.0)\n",
            "Requirement already satisfied: orjson>=3.9.12 in /usr/local/lib/python3.11/dist-packages (from chromadb) (3.10.15)\n",
            "Requirement already satisfied: rich>=10.11.0 in /usr/local/lib/python3.11/dist-packages (from chromadb) (13.9.4)\n",
            "Requirement already satisfied: llama-index==0.10.50 in /usr/local/lib/python3.11/dist-packages (from thepipe-api) (0.10.50)\n",
            "Requirement already satisfied: aiohttp<4.0.0,>=3.8.6 in /usr/local/lib/python3.11/dist-packages (from thepipe-api) (3.11.12)\n",
            "Requirement already satisfied: charset-normalizer in /usr/local/lib/python3.11/dist-packages (from thepipe-api) (3.4.1)\n",
            "Requirement already satisfied: colorama in /usr/local/lib/python3.11/dist-packages (from thepipe-api) (0.4.6)\n",
            "Requirement already satisfied: requests in /usr/local/lib/python3.11/dist-packages (from thepipe-api) (2.32.3)\n",
            "Requirement already satisfied: pillow in /usr/local/lib/python3.11/dist-packages (from thepipe-api) (11.1.0)\n",
            "Requirement already satisfied: supabase in /usr/local/lib/python3.11/dist-packages (from thepipe-api) (2.13.0)\n",
            "Requirement already satisfied: markdownify==0.12.1 in /usr/local/lib/python3.11/dist-packages (from thepipe-api) (0.12.1)\n",
            "Requirement already satisfied: magika in /usr/local/lib/python3.11/dist-packages (from thepipe-api) (0.5.1)\n",
            "Requirement already satisfied: scikit-learn in /usr/local/lib/python3.11/dist-packages (from thepipe-api) (1.6.1)\n",
            "Requirement already satisfied: python-dotenv in /usr/local/lib/python3.11/dist-packages (from thepipe-api) (1.0.1)\n",
            "Requirement already satisfied: llama-index-agent-openai<0.3.0,>=0.1.4 in /usr/local/lib/python3.11/dist-packages (from llama-index==0.10.50->thepipe-api) (0.2.9)\n",
            "Requirement already satisfied: llama-index-cli<0.2.0,>=0.1.2 in /usr/local/lib/python3.11/dist-packages (from llama-index==0.10.50->thepipe-api) (0.1.13)\n",
            "Requirement already satisfied: llama-index-core==0.10.50 in /usr/local/lib/python3.11/dist-packages (from llama-index==0.10.50->thepipe-api) (0.10.50)\n",
            "Requirement already satisfied: llama-index-embeddings-openai<0.2.0,>=0.1.5 in /usr/local/lib/python3.11/dist-packages (from llama-index==0.10.50->thepipe-api) (0.1.11)\n",
            "Requirement already satisfied: llama-index-indices-managed-llama-cloud>=0.2.0 in /usr/local/lib/python3.11/dist-packages (from llama-index==0.10.50->thepipe-api) (0.2.4)\n",
            "Requirement already satisfied: llama-index-legacy<0.10.0,>=0.9.48 in /usr/local/lib/python3.11/dist-packages (from llama-index==0.10.50->thepipe-api) (0.9.48.post4)\n",
            "Requirement already satisfied: llama-index-llms-openai<0.2.0,>=0.1.13 in /usr/local/lib/python3.11/dist-packages (from llama-index==0.10.50->thepipe-api) (0.1.26)\n",
            "Requirement already satisfied: llama-index-multi-modal-llms-openai<0.2.0,>=0.1.3 in /usr/local/lib/python3.11/dist-packages (from llama-index==0.10.50->thepipe-api) (0.1.9)\n",
            "Requirement already satisfied: llama-index-program-openai<0.2.0,>=0.1.3 in /usr/local/lib/python3.11/dist-packages (from llama-index==0.10.50->thepipe-api) (0.1.6)\n",
            "Requirement already satisfied: llama-index-question-gen-openai<0.2.0,>=0.1.2 in /usr/local/lib/python3.11/dist-packages (from llama-index==0.10.50->thepipe-api) (0.1.3)\n",
            "Requirement already satisfied: llama-index-readers-file<0.2.0,>=0.1.4 in /usr/local/lib/python3.11/dist-packages (from llama-index==0.10.50->thepipe-api) (0.1.33)\n",
            "Requirement already satisfied: llama-index-readers-llama-parse<0.2.0,>=0.1.2 in /usr/local/lib/python3.11/dist-packages (from llama-index==0.10.50->thepipe-api) (0.1.6)\n",
            "Requirement already satisfied: beautifulsoup4<5,>=4.9 in /usr/local/lib/python3.11/dist-packages (from markdownify==0.12.1->thepipe-api) (4.13.3)\n",
            "Requirement already satisfied: six<2,>=1.15 in /usr/local/lib/python3.11/dist-packages (from markdownify==0.12.1->thepipe-api) (1.17.0)\n",
            "Requirement already satisfied: SQLAlchemy>=1.4.49 in /usr/local/lib/python3.11/dist-packages (from SQLAlchemy[asyncio]>=1.4.49->llama-index-core==0.10.50->llama-index==0.10.50->thepipe-api) (2.0.38)\n",
            "Requirement already satisfied: dataclasses-json in /usr/local/lib/python3.11/dist-packages (from llama-index-core==0.10.50->llama-index==0.10.50->thepipe-api) (0.6.7)\n",
            "Requirement already satisfied: deprecated>=1.2.9.3 in /usr/local/lib/python3.11/dist-packages (from llama-index-core==0.10.50->llama-index==0.10.50->thepipe-api) (1.2.18)\n",
            "Requirement already satisfied: dirtyjson<2.0.0,>=1.0.8 in /usr/local/lib/python3.11/dist-packages (from llama-index-core==0.10.50->llama-index==0.10.50->thepipe-api) (1.0.8)\n",
            "Requirement already satisfied: fsspec>=2023.5.0 in /usr/local/lib/python3.11/dist-packages (from llama-index-core==0.10.50->llama-index==0.10.50->thepipe-api) (2024.10.0)\n",
            "Requirement already satisfied: llama-cloud<0.0.7,>=0.0.6 in /usr/local/lib/python3.11/dist-packages (from llama-index-core==0.10.50->llama-index==0.10.50->thepipe-api) (0.0.6)\n",
            "Requirement already satisfied: nest-asyncio<2.0.0,>=1.5.8 in /usr/local/lib/python3.11/dist-packages (from llama-index-core==0.10.50->llama-index==0.10.50->thepipe-api) (1.6.0)\n",
            "Requirement already satisfied: networkx>=3.0 in /usr/local/lib/python3.11/dist-packages (from llama-index-core==0.10.50->llama-index==0.10.50->thepipe-api) (3.4.2)\n",
            "Requirement already satisfied: nltk<4.0.0,>=3.8.1 in /usr/local/lib/python3.11/dist-packages (from llama-index-core==0.10.50->llama-index==0.10.50->thepipe-api) (3.9.1)\n",
            "Requirement already satisfied: openai>=1.1.0 in /usr/local/lib/python3.11/dist-packages (from llama-index-core==0.10.50->llama-index==0.10.50->thepipe-api) (1.61.1)\n",
            "Requirement already satisfied: pandas in /usr/local/lib/python3.11/dist-packages (from llama-index-core==0.10.50->llama-index==0.10.50->thepipe-api) (2.2.2)\n",
            "Requirement already satisfied: tiktoken>=0.3.3 in /usr/local/lib/python3.11/dist-packages (from llama-index-core==0.10.50->llama-index==0.10.50->thepipe-api) (0.9.0)\n",
            "Requirement already satisfied: typing-inspect>=0.8.0 in /usr/local/lib/python3.11/dist-packages (from llama-index-core==0.10.50->llama-index==0.10.50->thepipe-api) (0.9.0)\n",
            "Requirement already satisfied: wrapt in /usr/local/lib/python3.11/dist-packages (from llama-index-core==0.10.50->llama-index==0.10.50->thepipe-api) (1.17.2)\n",
            "Requirement already satisfied: aiohappyeyeballs>=2.3.0 in /usr/local/lib/python3.11/dist-packages (from aiohttp<4.0.0,>=3.8.6->thepipe-api) (2.4.6)\n",
            "Requirement already satisfied: aiosignal>=1.1.2 in /usr/local/lib/python3.11/dist-packages (from aiohttp<4.0.0,>=3.8.6->thepipe-api) (1.3.2)\n",
            "Requirement already satisfied: attrs>=17.3.0 in /usr/local/lib/python3.11/dist-packages (from aiohttp<4.0.0,>=3.8.6->thepipe-api) (25.1.0)\n",
            "Requirement already satisfied: frozenlist>=1.1.1 in /usr/local/lib/python3.11/dist-packages (from aiohttp<4.0.0,>=3.8.6->thepipe-api) (1.5.0)\n",
            "Requirement already satisfied: multidict<7.0,>=4.5 in /usr/local/lib/python3.11/dist-packages (from aiohttp<4.0.0,>=3.8.6->thepipe-api) (6.1.0)\n",
            "Requirement already satisfied: propcache>=0.2.0 in /usr/local/lib/python3.11/dist-packages (from aiohttp<4.0.0,>=3.8.6->thepipe-api) (0.2.1)\n",
            "Requirement already satisfied: yarl<2.0,>=1.17.0 in /usr/local/lib/python3.11/dist-packages (from aiohttp<4.0.0,>=3.8.6->thepipe-api) (1.18.3)\n",
            "Requirement already satisfied: packaging>=19.1 in /usr/local/lib/python3.11/dist-packages (from build>=1.0.3->chromadb) (24.2)\n",
            "Requirement already satisfied: pyproject_hooks in /usr/local/lib/python3.11/dist-packages (from build>=1.0.3->chromadb) (1.2.0)\n",
            "Requirement already satisfied: starlette<0.46.0,>=0.40.0 in /usr/local/lib/python3.11/dist-packages (from fastapi>=0.95.2->chromadb) (0.45.3)\n",
            "Requirement already satisfied: sgmllib3k in /usr/local/lib/python3.11/dist-packages (from feedparser>=6.0.11->pyzotero) (1.0.0)\n",
            "Requirement already satisfied: anyio in /usr/local/lib/python3.11/dist-packages (from httpx>=0.28.1->pyzotero) (3.7.1)\n",
            "Requirement already satisfied: certifi in /usr/local/lib/python3.11/dist-packages (from httpx>=0.28.1->pyzotero) (2025.1.31)\n",
            "Requirement already satisfied: httpcore==1.* in /usr/local/lib/python3.11/dist-packages (from httpx>=0.28.1->pyzotero) (1.0.7)\n",
            "Requirement already satisfied: idna in /usr/local/lib/python3.11/dist-packages (from httpx>=0.28.1->pyzotero) (3.10)\n",
            "Requirement already satisfied: h11<0.15,>=0.13 in /usr/local/lib/python3.11/dist-packages (from httpcore==1.*->httpx>=0.28.1->pyzotero) (0.14.0)\n",
            "Requirement already satisfied: python-dateutil>=2.5.3 in /usr/local/lib/python3.11/dist-packages (from kubernetes>=28.1.0->chromadb) (2.8.2)\n",
            "Requirement already satisfied: google-auth>=1.0.1 in /usr/local/lib/python3.11/dist-packages (from kubernetes>=28.1.0->chromadb) (2.27.0)\n",
            "Requirement already satisfied: websocket-client!=0.40.0,!=0.41.*,!=0.42.*,>=0.32.0 in /usr/local/lib/python3.11/dist-packages (from kubernetes>=28.1.0->chromadb) (1.8.0)\n",
            "Requirement already satisfied: requests-oauthlib in /usr/local/lib/python3.11/dist-packages (from kubernetes>=28.1.0->chromadb) (2.0.0)\n",
            "Requirement already satisfied: oauthlib>=3.2.2 in /usr/local/lib/python3.11/dist-packages (from kubernetes>=28.1.0->chromadb) (3.2.2)\n",
            "Requirement already satisfied: urllib3>=1.24.2 in /usr/local/lib/python3.11/dist-packages (from kubernetes>=28.1.0->chromadb) (2.3.0)\n",
            "Requirement already satisfied: durationpy>=0.7 in /usr/local/lib/python3.11/dist-packages (from kubernetes>=28.1.0->chromadb) (0.9)\n",
            "Requirement already satisfied: coloredlogs in /usr/local/lib/python3.11/dist-packages (from onnxruntime>=1.14.1->chromadb) (15.0.1)\n",
            "Requirement already satisfied: flatbuffers in /usr/local/lib/python3.11/dist-packages (from onnxruntime>=1.14.1->chromadb) (25.2.10)\n",
            "Requirement already satisfied: protobuf in /usr/local/lib/python3.11/dist-packages (from onnxruntime>=1.14.1->chromadb) (5.29.3)\n",
            "Requirement already satisfied: sympy in /usr/local/lib/python3.11/dist-packages (from onnxruntime>=1.14.1->chromadb) (1.13.1)\n",
            "Requirement already satisfied: importlib-metadata<=8.5.0,>=6.0 in /usr/local/lib/python3.11/dist-packages (from opentelemetry-api>=1.2.0->chromadb) (8.5.0)\n",
            "Requirement already satisfied: googleapis-common-protos~=1.52 in /usr/local/lib/python3.11/dist-packages (from opentelemetry-exporter-otlp-proto-grpc>=1.2.0->chromadb) (1.67.0)\n",
            "Requirement already satisfied: opentelemetry-exporter-otlp-proto-common==1.30.0 in /usr/local/lib/python3.11/dist-packages (from opentelemetry-exporter-otlp-proto-grpc>=1.2.0->chromadb) (1.30.0)\n",
            "Requirement already satisfied: opentelemetry-proto==1.30.0 in /usr/local/lib/python3.11/dist-packages (from opentelemetry-exporter-otlp-proto-grpc>=1.2.0->chromadb) (1.30.0)\n",
            "Requirement already satisfied: opentelemetry-instrumentation-asgi==0.51b0 in /usr/local/lib/python3.11/dist-packages (from opentelemetry-instrumentation-fastapi>=0.41b0->chromadb) (0.51b0)\n",
            "Requirement already satisfied: opentelemetry-instrumentation==0.51b0 in /usr/local/lib/python3.11/dist-packages (from opentelemetry-instrumentation-fastapi>=0.41b0->chromadb) (0.51b0)\n",
            "Requirement already satisfied: opentelemetry-semantic-conventions==0.51b0 in /usr/local/lib/python3.11/dist-packages (from opentelemetry-instrumentation-fastapi>=0.41b0->chromadb) (0.51b0)\n",
            "Requirement already satisfied: opentelemetry-util-http==0.51b0 in /usr/local/lib/python3.11/dist-packages (from opentelemetry-instrumentation-fastapi>=0.41b0->chromadb) (0.51b0)\n",
            "Requirement already satisfied: asgiref~=3.0 in /usr/local/lib/python3.11/dist-packages (from opentelemetry-instrumentation-asgi==0.51b0->opentelemetry-instrumentation-fastapi>=0.41b0->chromadb) (3.8.1)\n",
            "Requirement already satisfied: monotonic>=1.5 in /usr/local/lib/python3.11/dist-packages (from posthog>=2.4.0->chromadb) (1.6)\n",
            "Requirement already satisfied: backoff>=1.10.0 in /usr/local/lib/python3.11/dist-packages (from posthog>=2.4.0->chromadb) (2.2.1)\n",
            "Requirement already satisfied: annotated-types>=0.6.0 in /usr/local/lib/python3.11/dist-packages (from pydantic>=1.9->chromadb) (0.7.0)\n",
            "Requirement already satisfied: pydantic-core==2.27.2 in /usr/local/lib/python3.11/dist-packages (from pydantic>=1.9->chromadb) (2.27.2)\n",
            "Requirement already satisfied: markdown-it-py>=2.2.0 in /usr/local/lib/python3.11/dist-packages (from rich>=10.11.0->chromadb) (3.0.0)\n",
            "Requirement already satisfied: pygments<3.0.0,>=2.13.0 in /usr/local/lib/python3.11/dist-packages (from rich>=10.11.0->chromadb) (2.18.0)\n",
            "Requirement already satisfied: huggingface-hub<1.0,>=0.16.4 in /usr/local/lib/python3.11/dist-packages (from tokenizers>=0.13.2->chromadb) (0.28.1)\n",
            "Requirement already satisfied: click>=8.0.0 in /usr/local/lib/python3.11/dist-packages (from typer>=0.9.0->chromadb) (8.1.8)\n",
            "Requirement already satisfied: shellingham>=1.3.0 in /usr/local/lib/python3.11/dist-packages (from typer>=0.9.0->chromadb) (1.5.4)\n",
            "Requirement already satisfied: httptools>=0.6.3 in /usr/local/lib/python3.11/dist-packages (from uvicorn[standard]>=0.18.3->chromadb) (0.6.4)\n",
            "Requirement already satisfied: uvloop!=0.15.0,!=0.15.1,>=0.14.0 in /usr/local/lib/python3.11/dist-packages (from uvicorn[standard]>=0.18.3->chromadb) (0.21.0)\n",
            "Requirement already satisfied: watchfiles>=0.13 in /usr/local/lib/python3.11/dist-packages (from uvicorn[standard]>=0.18.3->chromadb) (1.0.4)\n",
            "Requirement already satisfied: websockets>=10.4 in /usr/local/lib/python3.11/dist-packages (from uvicorn[standard]>=0.18.3->chromadb) (14.2)\n",
            "Requirement already satisfied: pyparsing>=2.0.3 in /usr/local/lib/python3.11/dist-packages (from bibtexparser->pyzotero) (3.2.1)\n",
            "Requirement already satisfied: tabulate<0.10.0,>=0.9.0 in /usr/local/lib/python3.11/dist-packages (from magika->thepipe-api) (0.9.0)\n",
            "Requirement already satisfied: scipy>=1.6.0 in /usr/local/lib/python3.11/dist-packages (from scikit-learn->thepipe-api) (1.13.1)\n",
            "Requirement already satisfied: joblib>=1.2.0 in /usr/local/lib/python3.11/dist-packages (from scikit-learn->thepipe-api) (1.4.2)\n",
            "Requirement already satisfied: threadpoolctl>=3.1.0 in /usr/local/lib/python3.11/dist-packages (from scikit-learn->thepipe-api) (3.5.0)\n",
            "Requirement already satisfied: gotrue<3.0.0,>=2.11.0 in /usr/local/lib/python3.11/dist-packages (from supabase->thepipe-api) (2.11.4)\n",
            "Requirement already satisfied: postgrest<0.20,>=0.19 in /usr/local/lib/python3.11/dist-packages (from supabase->thepipe-api) (0.19.3)\n",
            "Requirement already satisfied: realtime<3.0.0,>=2.0.0 in /usr/local/lib/python3.11/dist-packages (from supabase->thepipe-api) (2.4.0)\n",
            "Requirement already satisfied: storage3<0.12,>=0.10 in /usr/local/lib/python3.11/dist-packages (from supabase->thepipe-api) (0.11.3)\n",
            "Requirement already satisfied: supafunc<0.10,>=0.9 in /usr/local/lib/python3.11/dist-packages (from supabase->thepipe-api) (0.9.3)\n",
            "Requirement already satisfied: soupsieve>1.2 in /usr/local/lib/python3.11/dist-packages (from beautifulsoup4<5,>=4.9->markdownify==0.12.1->thepipe-api) (2.6)\n",
            "Requirement already satisfied: cachetools<6.0,>=2.0.0 in /usr/local/lib/python3.11/dist-packages (from google-auth>=1.0.1->kubernetes>=28.1.0->chromadb) (5.5.1)\n",
            "Requirement already satisfied: pyasn1-modules>=0.2.1 in /usr/local/lib/python3.11/dist-packages (from google-auth>=1.0.1->kubernetes>=28.1.0->chromadb) (0.4.1)\n",
            "Requirement already satisfied: rsa<5,>=3.1.4 in /usr/local/lib/python3.11/dist-packages (from google-auth>=1.0.1->kubernetes>=28.1.0->chromadb) (4.9)\n",
            "Requirement already satisfied: filelock in /usr/local/lib/python3.11/dist-packages (from huggingface-hub<1.0,>=0.16.4->tokenizers>=0.13.2->chromadb) (3.17.0)\n",
            "Requirement already satisfied: zipp>=3.20 in /usr/local/lib/python3.11/dist-packages (from importlib-metadata<=8.5.0,>=6.0->opentelemetry-api>=1.2.0->chromadb) (3.21.0)\n",
            "Requirement already satisfied: pypdf<5.0.0,>=4.0.1 in /usr/local/lib/python3.11/dist-packages (from llama-index-readers-file<0.2.0,>=0.1.4->llama-index==0.10.50->thepipe-api) (4.3.1)\n",
            "Requirement already satisfied: striprtf<0.0.27,>=0.0.26 in /usr/local/lib/python3.11/dist-packages (from llama-index-readers-file<0.2.0,>=0.1.4->llama-index==0.10.50->thepipe-api) (0.0.26)\n",
            "Requirement already satisfied: llama-parse>=0.4.0 in /usr/local/lib/python3.11/dist-packages (from llama-index-readers-llama-parse<0.2.0,>=0.1.2->llama-index==0.10.50->thepipe-api) (0.4.9)\n",
            "Requirement already satisfied: mdurl~=0.1 in /usr/local/lib/python3.11/dist-packages (from markdown-it-py>=2.2.0->rich>=10.11.0->chromadb) (0.1.2)\n",
            "Requirement already satisfied: deprecation<3.0.0,>=2.1.0 in /usr/local/lib/python3.11/dist-packages (from postgrest<0.20,>=0.19->supabase->thepipe-api) (2.1.0)\n",
            "Requirement already satisfied: sniffio>=1.1 in /usr/local/lib/python3.11/dist-packages (from anyio->httpx>=0.28.1->pyzotero) (1.3.1)\n",
            "Requirement already satisfied: strenum<0.5.0,>=0.4.15 in /usr/local/lib/python3.11/dist-packages (from supafunc<0.10,>=0.9->supabase->thepipe-api) (0.4.15)\n",
            "Requirement already satisfied: humanfriendly>=9.1 in /usr/local/lib/python3.11/dist-packages (from coloredlogs->onnxruntime>=1.14.1->chromadb) (10.0)\n",
            "Requirement already satisfied: mpmath<1.4,>=1.1.0 in /usr/local/lib/python3.11/dist-packages (from sympy->onnxruntime>=1.14.1->chromadb) (1.3.0)\n",
            "Requirement already satisfied: h2<5,>=3 in /usr/local/lib/python3.11/dist-packages (from httpx[http2]<0.29,>=0.26->gotrue<3.0.0,>=2.11.0->supabase->thepipe-api) (4.2.0)\n",
            "Requirement already satisfied: regex>=2021.8.3 in /usr/local/lib/python3.11/dist-packages (from nltk<4.0.0,>=3.8.1->llama-index-core==0.10.50->llama-index==0.10.50->thepipe-api) (2024.11.6)\n",
            "Requirement already satisfied: distro<2,>=1.7.0 in /usr/local/lib/python3.11/dist-packages (from openai>=1.1.0->llama-index-core==0.10.50->llama-index==0.10.50->thepipe-api) (1.9.0)\n",
            "Requirement already satisfied: jiter<1,>=0.4.0 in /usr/local/lib/python3.11/dist-packages (from openai>=1.1.0->llama-index-core==0.10.50->llama-index==0.10.50->thepipe-api) (0.8.2)\n",
            "Requirement already satisfied: pyasn1<0.7.0,>=0.4.6 in /usr/local/lib/python3.11/dist-packages (from pyasn1-modules>=0.2.1->google-auth>=1.0.1->kubernetes>=28.1.0->chromadb) (0.6.1)\n",
            "Requirement already satisfied: greenlet!=0.4.17 in /usr/local/lib/python3.11/dist-packages (from SQLAlchemy>=1.4.49->SQLAlchemy[asyncio]>=1.4.49->llama-index-core==0.10.50->llama-index==0.10.50->thepipe-api) (3.1.1)\n",
            "Requirement already satisfied: mypy-extensions>=0.3.0 in /usr/local/lib/python3.11/dist-packages (from typing-inspect>=0.8.0->llama-index-core==0.10.50->llama-index==0.10.50->thepipe-api) (1.0.0)\n",
            "Requirement already satisfied: marshmallow<4.0.0,>=3.18.0 in /usr/local/lib/python3.11/dist-packages (from dataclasses-json->llama-index-core==0.10.50->llama-index==0.10.50->thepipe-api) (3.26.1)\n",
            "Requirement already satisfied: tzdata>=2022.7 in /usr/local/lib/python3.11/dist-packages (from pandas->llama-index-core==0.10.50->llama-index==0.10.50->thepipe-api) (2025.1)\n",
            "Requirement already satisfied: hyperframe<7,>=6.1 in /usr/local/lib/python3.11/dist-packages (from h2<5,>=3->httpx[http2]<0.29,>=0.26->gotrue<3.0.0,>=2.11.0->supabase->thepipe-api) (6.1.0)\n",
            "Requirement already satisfied: hpack<5,>=4.1 in /usr/local/lib/python3.11/dist-packages (from h2<5,>=3->httpx[http2]<0.29,>=0.26->gotrue<3.0.0,>=2.11.0->supabase->thepipe-api) (4.1.0)\n"
          ]
        }
      ],
      "source": [
        "!pip install pyzotero chromadb thepipe-api tqdm PyMuPDF"
      ]
    },
    {
      "cell_type": "code",
      "execution_count": 2,
      "metadata": {
        "id": "ojbH831lu75S"
      },
      "outputs": [],
      "source": [
        "from pyzotero import zotero\n",
        "from thepipe.scraper import scrape_file\n",
        "from thepipe.chunker import chunk_by_page\n",
        "from openai import OpenAI\n",
        "from tqdm import tqdm\n",
        "import chromadb\n",
        "import time\n",
        "import os\n",
        "from google.colab import userdata\n",
        "\n",
        "# Set up environment variables\n",
        "os.environ[\"ZOTERO_USER_ID\"] = userdata.get(\"ZOTERO_USER_ID\")\n",
        "os.environ[\"ZOTERO_API_KEY\"] = userdata.get(\"ZOTERO_API_KEY\")\n",
        "os.environ[\"THEPIPE_API_KEY\"] = userdata.get(\"THEPIPE_API_KEY\")\n",
        "os.environ[\"LLM_SERVER_API_KEY\"] = userdata.get(\"LLM_SERVER_API_KEY\")\n",
        "os.environ[\"LLM_SERVER_BASE_URL\"] = userdata.get(\"LLM_SERVER_BASE_URL\")\n",
        "#os.environ[\"ZOTERO_USER_ID\"] = \"16493983\"\n",
        "#os.environ[\"ZOTERO_API_KEY\"] = \"sOGd1rrYup2qg40GW81L00U8\"\n",
        "#os.environ[\"THEPIPE_API_KEY\"] = \"user_2tQhqRd21zKBNKjujV9kk1ul9oW\"\n",
        "#os.environ[\"LLM_SERVER_API_KEY\"] = \"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\"\n",
        "#os.environ[\"LLM_SERVER_BASE_URL\"] = \"https://openrouter.ai/api/v1\""
      ]
    },
    {
      "cell_type": "code",
      "execution_count": 3,
      "metadata": {
        "id": "SvAg33umu75S"
      },
      "outputs": [],
      "source": [
        "# Initialize ChomaDB\n",
        "chroma_client = chromadb.PersistentClient(path=\"chromadb\")\n",
        "collection = chroma_client.get_or_create_collection(name=\"zotero_papers\")\n",
        "\n",
        "# Initialize LLM client\n",
        "llm_client = OpenAI(\n",
        "    base_url=os.environ[\"LLM_SERVER_BASE_URL\"],\n",
        "    api_key=os.environ[\"LLM_SERVER_API_KEY\"],\n",
        ")\n",
        "\n",
        "# Initialize Zotero client for user (use group id and \"group\" for group libraries)\n",
        "zot = zotero.Zotero(\n",
        "    library_id=os.environ.get(\"ZOTERO_USER_ID\"),\n",
        "    library_type=\"user\",\n",
        "    api_key=os.environ.get(\"ZOTERO_API_KEY\")\n",
        ")"
      ]
    },
    {
      "cell_type": "code",
      "execution_count": 5,
      "metadata": {
        "id": "uvblGaJiu75T",
        "outputId": "38e364bc-a288-4db1-83bd-a43da881980c",
        "colab": {
          "base_uri": "https://localhost:8080/"
        }
      },
      "outputs": [
        {
          "output_type": "stream",
          "name": "stdout",
          "text": [
            "fitz path = /usr/local/lib/python3.11/dist-packages/fitz/__init__.py\n",
            "fitz version = 1.25.3\n",
            "zotero user id = 16493983\n",
            "Number of collections: 1\n",
            "Collection Name: tfp2021, Key: GV4MMALE\n",
            "item_key = ERWBTXFU\n",
            "item_key = EB2HPJPU\n",
            "item_key = TA75FWBI\n",
            "Number of items: 3\n"
          ]
        },
        {
          "output_type": "stream",
          "name": "stderr",
          "text": [
            "\r  0%|          | 0/3 [00:00<?, ?it/s]"
          ]
        },
        {
          "output_type": "stream",
          "name": "stdout",
          "text": [
            "Downloaded: 04-19-SNAP.pdf\n",
            "Scraped 12 chunks from 04-19-SNAP.pdf\n"
          ]
        },
        {
          "output_type": "stream",
          "name": "stderr",
          "text": [
            "\r 67%|██████▋   | 2/3 [00:49<00:24, 24.72s/it]"
          ]
        },
        {
          "output_type": "stream",
          "name": "stdout",
          "text": [
            "Added 12 chunks to collection\n",
            "Downloaded: 2021 - Thrifty Food Plan, 2021.pdf\n",
            "Scraped 125 chunks from 2021 - Thrifty Food Plan, 2021.pdf\n"
          ]
        },
        {
          "output_type": "stream",
          "name": "stderr",
          "text": [
            "100%|██████████| 3/3 [06:56<00:00, 138.72s/it]"
          ]
        },
        {
          "output_type": "stream",
          "name": "stdout",
          "text": [
            "Added 125 chunks to collection\n"
          ]
        },
        {
          "output_type": "stream",
          "name": "stderr",
          "text": [
            "\n"
          ]
        }
      ],
      "source": [
        "from thepipe.scraper import scrape_file\n",
        "from thepipe.chunker import chunk_by_page\n",
        "from tqdm import tqdm\n",
        "import time\n",
        "import fitz\n",
        "\n",
        "print(f\"fitz path = {fitz.__file__}\")\n",
        "print(f\"fitz version = {fitz.__version__}\")\n",
        "# Create 'pdfs' directory if it doesn't exist\n",
        "os.makedirs(\"pdfs\", exist_ok=True)\n",
        "\n",
        "userid = os.getenv(\"ZOTERO_USER_ID\")\n",
        "print(f\"zotero user id = {userid}\")\n",
        "\n",
        "# Fetch all collections\n",
        "collections = zot.collections()\n",
        "print(f\"Number of collections: {len(collections)}\")\n",
        "# Print collection keys and names\n",
        "for col in collections:\n",
        "    print(f\"Collection Name: {col['data']['name']}, Key: {col['key']}\")\n",
        "\n",
        "\n",
        "COLLECTION_KEY = \"GV4MMALE\"\n",
        "# Fetch items from the specific collection\n",
        "items = zot.everything(zot.collection_items(COLLECTION_KEY))\n",
        "for item in items:\n",
        "    print(f\"item_key = {item['data']['key']}\")\n",
        "print(f\"Number of items: {len(items)}\")\n",
        "# Retrieve all items\n",
        "#items = zot.everything(zot.top())\n",
        "\n",
        "#print(zotero.Zotero(\"shenzeng\", \"user\", os.getenv(\"ZOTERO_API_KEY\")).key_info())\n",
        "#attachments = zot.children(\"GV4MMALE\")\n",
        "#print(f\"attachments={attachments}\")\n",
        "\n",
        "\n",
        "for item in tqdm(items):\n",
        "    if 'contentType' in item['data'] and item['data']['contentType'] == 'application/pdf':\n",
        "        item_key = item['data']['key']\n",
        "        filename = item['data'].get('filename', None)\n",
        "\n",
        "        # Skip if not a PDF\n",
        "        if not filename or not filename.endswith('.pdf') or filename.startswith(\"Dietary\"):\n",
        "            continue\n",
        "\n",
        "        file_path = os.path.join(\"pdfs\", filename)\n",
        "\n",
        "        # Download the file\n",
        "        #if item_key != \"RPZBPCW5\":\n",
        "        with open(file_path, 'wb') as f:\n",
        "          f.write(zot.file(item_key))\n",
        "        print(f\"Downloaded: {filename}\")\n",
        "\n",
        "        # Scrape the file\n",
        "        chunks = scrape_file(file_path, ai_extraction=True, text_only=True, local=True, chunking_method=chunk_by_page)\n",
        "        print(f\"Scraped {len(chunks)} chunks from {filename}\")\n",
        "\n",
        "        # Add chunks to collection\n",
        "        for chunk in chunks:\n",
        "            chunk_text = '\\n'.join(chunk.texts)\n",
        "            collection.add(\n",
        "                documents=[chunk_text],\n",
        "                metadatas=[{\"source\": chunk.path}],\n",
        "                ids=[str(time.time_ns())],\n",
        "            )\n",
        "        print(f\"Added {len(chunks)} chunks to collection\")"
      ]
    },
    {
      "cell_type": "code",
      "execution_count": 9,
      "metadata": {
        "id": "ncmdqyOOu75T"
      },
      "outputs": [],
      "source": [
        "from typing import Dict\n",
        "\n",
        "query = \"How many modeling categories are there in Thrifty Food Plan?\"\n",
        "response = None\n",
        "\n",
        "def ask(query: str)->Dict:\n",
        "  # Query the collection\n",
        "  results = collection.query(\n",
        "      query_texts=[query],\n",
        "      n_results=3  # Retrieve top 3 most relevant chunks\n",
        "  )\n",
        "\n",
        "  # Prepare context from retrieved chunks\n",
        "  # context = \"\\n\".join(results['documents'][0])\n",
        "\n",
        "  # if you want cited sources, you can use the following code\n",
        "  context = \"\"\n",
        "  for source, text in zip(results['metadatas'][0], results['documents'][0]):\n",
        "      context += f\"<Document source='{source['source']}'>\\n{text}\\n</Document>\\n\"\n",
        "\n",
        "  #print(\"Retrieved context to use for LLM generation:\")\n",
        "  #print(context)\n",
        "  # Prepare messages for OpenRouter\n",
        "  messages = [\n",
        "      {\"role\": \"system\", \"content\": \"You are a helpful scientific assistant. Use the provided context to answer the user's question.\"},\n",
        "      {\"role\": \"user\", \"content\": f\"Context:\\n{context}\\nUser query: {query}\"}\n",
        "  ]\n",
        "\n",
        "  # Call OpenRouter API\n",
        "  response = llm_client.chat.completions.create(\n",
        "      model=\"meta-llama/llama-3.1-405b-instruct\",\n",
        "      messages=messages,\n",
        "      temperature=0.2\n",
        "  )\n",
        "  return response"
      ]
    },
    {
      "cell_type": "code",
      "execution_count": 10,
      "metadata": {
        "id": "dQrlgD4du75T",
        "outputId": "a34e4379-30a5-451e-98ec-1605f940dfb9",
        "colab": {
          "base_uri": "https://localhost:8080/"
        }
      },
      "outputs": [
        {
          "output_type": "stream",
          "name": "stdout",
          "text": [
            "LLM generation: The Thrifty Food Plan is the United States Department of Agriculture's (USDA) lowest-cost food plan that describes the cost of a healthy, practical diet on a limited budget. It is used to determine the maximum amount of benefits that participants in the Supplemental Nutrition Assistance Program (SNAP) can receive. The plan is updated every five years to reflect changes in food prices, dietary recommendations, and other factors. The Thrifty Food Plan, 2021 is the latest update, which represents a reevaluation of the existing assumptions and methods used in past editions, informed by input from subject-matter experts and a review of existing literature.\n"
          ]
        }
      ],
      "source": [
        "# Example query for retrieval-augmented generation\n",
        "query = \"What is Thrifty Food Plan?\"\n",
        "\n",
        "# Get text from response\n",
        "response = ask(query)\n",
        "response_text = response.choices[0].message.content\n",
        "print(\"LLM generation:\", response_text)"
      ]
    },
    {
      "cell_type": "code",
      "source": [
        "query = \"What is Dietary Guidelines for Americans?\"\n",
        "response = ask(query)\n",
        "response_text = response.choices[0].message.content\n",
        "print(\"LLM generation:\", response_text)"
      ],
      "metadata": {
        "colab": {
          "base_uri": "https://localhost:8080/"
        },
        "id": "pV6P4l6CKqRe",
        "outputId": "8a554e01-c96b-436c-c19c-0a3258712650"
      },
      "execution_count": 12,
      "outputs": [
        {
          "output_type": "stream",
          "name": "stdout",
          "text": [
            "LLM generation: The Dietary Guidelines for Americans is a set of recommendations for healthy eating patterns for Americans aged 2 and older. It is published jointly by the U.S. Department of Agriculture (USDA) and the U.S. Department of Health and Human Services (HHS) every five years. The guidelines provide evidence-based recommendations for healthy eating patterns, including the types and amounts of foods to consume, as well as foods to limit or avoid. The guidelines aim to promote healthy eating habits and reduce the risk of chronic diseases such as obesity, heart disease, and type 2 diabetes. The 2020-2025 edition of the Dietary Guidelines for Americans is referenced in the provided text.\n"
          ]
        }
      ]
    },
    {
      "cell_type": "code",
      "source": [
        "query = \"What is a Modeling Category in the context of Thrifty Food Plan?\"\n",
        "response = ask(query)\n",
        "response_text = response.choices[0].message.content\n",
        "print(\"LLM generation:\", response_text)"
      ],
      "metadata": {
        "colab": {
          "base_uri": "https://localhost:8080/"
        },
        "id": "RfCBaizjK7ft",
        "outputId": "cc75905d-0259-4f02-f405-648d85023139"
      },
      "execution_count": 13,
      "outputs": [
        {
          "output_type": "stream",
          "name": "stdout",
          "text": [
            "LLM generation: In the context of the Thrifty Food Plan, a Modeling Category refers to a specific group of foods and beverages that are used as inputs in the mathematical optimization model to generate the Thrifty Food Plan Market Baskets. These categories are created based on the food group and subgroups in the Dietary Guidelines for Americans, 2020-2025, and are used to represent a nutritious diet. The Modeling Categories are then used to create the Market Basket Categories, which are the actual categories of foods and beverages that make up the Thrifty Food Plan Market Baskets. For example, the Modeling Category \"processed soy products\" is part of the larger Market Basket Category \"nuts, seeds, and soy products\".\n"
          ]
        }
      ]
    },
    {
      "cell_type": "code",
      "source": [
        "query = \"How many Modeling Categories are there in the Thrifty Food Plan?\"\n",
        "response = ask(query)\n",
        "response_text = response.choices[0].message.content\n",
        "print(\"LLM generation:\", response_text)"
      ],
      "metadata": {
        "colab": {
          "base_uri": "https://localhost:8080/"
        },
        "id": "0QPFNMO9LO19",
        "outputId": "1a1b5fff-c6e8-46a4-b440-d0e133740837"
      },
      "execution_count": 14,
      "outputs": [
        {
          "output_type": "stream",
          "name": "stdout",
          "text": [
            "LLM generation: The provided context does not explicitly state the number of Modeling Categories in the Thrifty Food Plan. However, it does mention that the Market Basket Categories were created based on the Modeling Categories and in consideration of the food group and subgroups in the Dietary Guidelines for Americans, 2020-2025.\n",
            "\n",
            "To find the exact number of Modeling Categories, you may need to refer to Appendix 1 of the Thrifty Food Plan document, which is titled \"Thrifty Food Plan, 2021 Modeling Categories and Description of Foods\" (page 53). This appendix likely provides a detailed list and description of the Modeling Categories used in the Thrifty Food Plan.\n"
          ]
        }
      ]
    }
  ],
  "metadata": {
    "kernelspec": {
      "display_name": "Python 3",
      "language": "python",
      "name": "python3"
    },
    "language_info": {
      "codemirror_mode": {
        "name": "ipython",
        "version": 3
      },
      "file_extension": ".py",
      "mimetype": "text/x-python",
      "name": "python",
      "nbconvert_exporter": "python",
      "pygments_lexer": "ipython3",
      "version": "3.10.8"
    },
    "colab": {
      "provenance": []
    }
  },
  "nbformat": 4,
  "nbformat_minor": 0
}