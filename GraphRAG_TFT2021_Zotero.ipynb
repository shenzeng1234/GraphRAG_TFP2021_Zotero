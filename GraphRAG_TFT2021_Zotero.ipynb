{
  "cells": [
    {
      "cell_type": "code",
      "execution_count": 1,
      "metadata": {
        "id": "5Tflw96wu75P",
        "colab": {
          "base_uri": "https://localhost:8080/"
        },
        "outputId": "ebe3c249-4408-45d4-ab4c-5bfb437f1546"
      },
      "outputs": [
        {
          "output_type": "stream",
          "name": "stdout",
          "text": [
          ]
        }
      ],
      "source": [
        "!pip install pyzotero chromadb thepipe-api tqdm PyMuPDF"
      ]
    },
    {
      "cell_type": "code",
      "execution_count": 2,
      "metadata": {
        "id": "ojbH831lu75S"
      },
      "outputs": [],
      "source": [
        "from pyzotero import zotero\n",
        "from thepipe.scraper import scrape_file\n",
        "from thepipe.chunker import chunk_by_page\n",
        "from openai import OpenAI\n",
        "from tqdm import tqdm\n",
        "import chromadb\n",
        "import time\n",
        "import os\n",
        "from google.colab import userdata\n",
        "\n",
        "# Set up environment variables\n",
        "os.environ[\"ZOTERO_USER_ID\"] = userdata.get(\"ZOTERO_USER_ID\")\n",
        "os.environ[\"ZOTERO_API_KEY\"] = userdata.get(\"ZOTERO_API_KEY\")\n",
        "os.environ[\"THEPIPE_API_KEY\"] = userdata.get(\"THEPIPE_API_KEY\")\n",
        "os.environ[\"LLM_SERVER_API_KEY\"] = userdata.get(\"LLM_SERVER_API_KEY\")\n",
        "os.environ[\"LLM_SERVER_BASE_URL\"] = userdata.get(\"LLM_SERVER_BASE_URL\")\n",
        "#os.environ[\"ZOTERO_USER_ID\"] = \"16493983\"\n",
        "#os.environ[\"ZOTERO_API_KEY\"] = \"sOGd1rrYup2qg40GW81L00U8\"\n",
        "#os.environ[\"THEPIPE_API_KEY\"] = \"user_2tQhqRd21zKBNKjujV9kk1ul9oW\"\n",
        "#os.environ[\"LLM_SERVER_API_KEY\"] = \"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\"\n",
        "#os.environ[\"LLM_SERVER_BASE_URL\"] = \"https://openrouter.ai/api/v1\""
      ]
    },
    {
      "cell_type": "code",
      "execution_count": 3,
      "metadata": {
        "id": "SvAg33umu75S"
      },
      "outputs": [],
      "source": [
        "# Initialize ChomaDB\n",
        "chroma_client = chromadb.PersistentClient(path=\"chromadb\")\n",
        "collection = chroma_client.get_or_create_collection(name=\"zotero_papers\")\n",
        "\n",
        "# Initialize LLM client\n",
        "llm_client = OpenAI(\n",
        "    base_url=os.environ[\"LLM_SERVER_BASE_URL\"],\n",
        "    api_key=os.environ[\"LLM_SERVER_API_KEY\"],\n",
        ")\n",
        "\n",
        "# Initialize Zotero client for user (use group id and \"group\" for group libraries)\n",
        "zot = zotero.Zotero(\n",
        "    library_id=os.environ.get(\"ZOTERO_USER_ID\"),\n",
        "    library_type=\"user\",\n",
        "    api_key=os.environ.get(\"ZOTERO_API_KEY\")\n",
        ")"
      ]
    },
    {
      "cell_type": "code",
      "execution_count": 5,
      "metadata": {
        "id": "uvblGaJiu75T",
        "outputId": "38e364bc-a288-4db1-83bd-a43da881980c",
        "colab": {
          "base_uri": "https://localhost:8080/"
        }
      },
      "outputs": [
        {
          "output_type": "stream",
          "name": "stdout",
          "text": [
            "fitz path = /usr/local/lib/python3.11/dist-packages/fitz/__init__.py\n",
            "fitz version = 1.25.3\n",
            "zotero user id = 16493983\n",
            "Number of collections: 1\n",
            "Collection Name: tfp2021, Key: GV4MMALE\n",
            "item_key = ERWBTXFU\n",
            "item_key = EB2HPJPU\n",
            "item_key = TA75FWBI\n",
            "Number of items: 3\n"
          ]
        },
        {
          "output_type": "stream",
          "name": "stderr",
          "text": [
            "\r  0%|          | 0/3 [00:00<?, ?it/s]"
          ]
        },
        {
          "output_type": "stream",
          "name": "stdout",
          "text": [
            "Downloaded: 04-19-SNAP.pdf\n",
            "Scraped 12 chunks from 04-19-SNAP.pdf\n"
          ]
        },
        {
          "output_type": "stream",
          "name": "stderr",
          "text": [
            "\r 67%|██████▋   | 2/3 [00:49<00:24, 24.72s/it]"
          ]
        },
        {
          "output_type": "stream",
          "name": "stdout",
          "text": [
            "Added 12 chunks to collection\n",
            "Downloaded: 2021 - Thrifty Food Plan, 2021.pdf\n",
            "Scraped 125 chunks from 2021 - Thrifty Food Plan, 2021.pdf\n"
          ]
        },
        {
          "output_type": "stream",
          "name": "stderr",
          "text": [
            "100%|██████████| 3/3 [06:56<00:00, 138.72s/it]"
          ]
        },
        {
          "output_type": "stream",
          "name": "stdout",
          "text": [
            "Added 125 chunks to collection\n"
          ]
        },
        {
          "output_type": "stream",
          "name": "stderr",
          "text": [
            "\n"
          ]
        }
      ],
      "source": [
        "from thepipe.scraper import scrape_file\n",
        "from thepipe.chunker import chunk_by_page\n",
        "from tqdm import tqdm\n",
        "import time\n",
        "import fitz\n",
        "\n",
        "print(f\"fitz path = {fitz.__file__}\")\n",
        "print(f\"fitz version = {fitz.__version__}\")\n",
        "# Create 'pdfs' directory if it doesn't exist\n",
        "os.makedirs(\"pdfs\", exist_ok=True)\n",
        "\n",
        "userid = os.getenv(\"ZOTERO_USER_ID\")\n",
        "print(f\"zotero user id = {userid}\")\n",
        "\n",
        "# Fetch all collections\n",
        "collections = zot.collections()\n",
        "print(f\"Number of collections: {len(collections)}\")\n",
        "# Print collection keys and names\n",
        "for col in collections:\n",
        "    print(f\"Collection Name: {col['data']['name']}, Key: {col['key']}\")\n",
        "\n",
        "\n",
        "COLLECTION_KEY = \"GV4MMALE\"\n",
        "# Fetch items from the specific collection\n",
        "items = zot.everything(zot.collection_items(COLLECTION_KEY))\n",
        "for item in items:\n",
        "    print(f\"item_key = {item['data']['key']}\")\n",
        "print(f\"Number of items: {len(items)}\")\n",
        "# Retrieve all items\n",
        "#items = zot.everything(zot.top())\n",
        "\n",
        "#print(zotero.Zotero(\"shenzeng\", \"user\", os.getenv(\"ZOTERO_API_KEY\")).key_info())\n",
        "#attachments = zot.children(\"GV4MMALE\")\n",
        "#print(f\"attachments={attachments}\")\n",
        "\n",
        "\n",
        "for item in tqdm(items):\n",
        "    if 'contentType' in item['data'] and item['data']['contentType'] == 'application/pdf':\n",
        "        item_key = item['data']['key']\n",
        "        filename = item['data'].get('filename', None)\n",
        "\n",
        "        # Skip if not a PDF\n",
        "        if not filename or not filename.endswith('.pdf') or filename.startswith(\"Dietary\"):\n",
        "            continue\n",
        "\n",
        "        file_path = os.path.join(\"pdfs\", filename)\n",
        "\n",
        "        # Download the file\n",
        "        #if item_key != \"RPZBPCW5\":\n",
        "        with open(file_path, 'wb') as f:\n",
        "          f.write(zot.file(item_key))\n",
        "        print(f\"Downloaded: {filename}\")\n",
        "\n",
        "        # Scrape the file\n",
        "        chunks = scrape_file(file_path, ai_extraction=True, text_only=True, local=True, chunking_method=chunk_by_page)\n",
        "        print(f\"Scraped {len(chunks)} chunks from {filename}\")\n",
        "\n",
        "        # Add chunks to collection\n",
        "        for chunk in chunks:\n",
        "            chunk_text = '\\n'.join(chunk.texts)\n",
        "            collection.add(\n",
        "                documents=[chunk_text],\n",
        "                metadatas=[{\"source\": chunk.path}],\n",
        "                ids=[str(time.time_ns())],\n",
        "            )\n",
        "        print(f\"Added {len(chunks)} chunks to collection\")"
      ]
    },
    {
      "cell_type": "code",
      "execution_count": 9,
      "metadata": {
        "id": "ncmdqyOOu75T"
      },
      "outputs": [],
      "source": [
        "from typing import Dict\n",
        "\n",
        "query = \"How many modeling categories are there in Thrifty Food Plan?\"\n",
        "response = None\n",
        "\n",
        "def ask(query: str)->Dict:\n",
        "  # Query the collection\n",
        "  results = collection.query(\n",
        "      query_texts=[query],\n",
        "      n_results=3  # Retrieve top 3 most relevant chunks\n",
        "  )\n",
        "\n",
        "  # Prepare context from retrieved chunks\n",
        "  # context = \"\\n\".join(results['documents'][0])\n",
        "\n",
        "  # if you want cited sources, you can use the following code\n",
        "  context = \"\"\n",
        "  for source, text in zip(results['metadatas'][0], results['documents'][0]):\n",
        "      context += f\"<Document source='{source['source']}'>\\n{text}\\n</Document>\\n\"\n",
        "\n",
        "  #print(\"Retrieved context to use for LLM generation:\")\n",
        "  #print(context)\n",
        "  # Prepare messages for OpenRouter\n",
        "  messages = [\n",
        "      {\"role\": \"system\", \"content\": \"You are a helpful scientific assistant. Use the provided context to answer the user's question.\"},\n",
        "      {\"role\": \"user\", \"content\": f\"Context:\\n{context}\\nUser query: {query}\"}\n",
        "  ]\n",
        "\n",
        "  # Call OpenRouter API\n",
        "  response = llm_client.chat.completions.create(\n",
        "      model=\"meta-llama/llama-3.1-405b-instruct\",\n",
        "      messages=messages,\n",
        "      temperature=0.2\n",
        "  )\n",
        "  return response"
      ]
    },
    {
      "cell_type": "code",
      "execution_count": 10,
      "metadata": {
        "id": "dQrlgD4du75T",
        "outputId": "a34e4379-30a5-451e-98ec-1605f940dfb9",
        "colab": {
          "base_uri": "https://localhost:8080/"
        }
      },
      "outputs": [
        {
          "output_type": "stream",
          "name": "stdout",
          "text": [
            "LLM generation: The Thrifty Food Plan is the United States Department of Agriculture's (USDA) lowest-cost food plan that describes the cost of a healthy, practical diet on a limited budget. It is used to determine the maximum amount of benefits that participants in the Supplemental Nutrition Assistance Program (SNAP) can receive. The plan is updated every five years to reflect changes in food prices, dietary recommendations, and other factors. The Thrifty Food Plan, 2021 is the latest update, which represents a reevaluation of the existing assumptions and methods used in past editions, informed by input from subject-matter experts and a review of existing literature.\n"
          ]
        }
      ],
      "source": [
        "# Example query for retrieval-augmented generation\n",
        "query = \"What is Thrifty Food Plan?\"\n",
        "\n",
        "# Get text from response\n",
        "response = ask(query)\n",
        "response_text = response.choices[0].message.content\n",
        "print(\"LLM generation:\", response_text)"
      ]
    },
    {
      "cell_type": "code",
      "source": [
        "query = \"What is Dietary Guidelines for Americans?\"\n",
        "response = ask(query)\n",
        "response_text = response.choices[0].message.content\n",
        "print(\"LLM generation:\", response_text)"
      ],
      "metadata": {
        "colab": {
          "base_uri": "https://localhost:8080/"
        },
        "id": "pV6P4l6CKqRe",
        "outputId": "8a554e01-c96b-436c-c19c-0a3258712650"
      },
      "execution_count": 12,
      "outputs": [
        {
          "output_type": "stream",
          "name": "stdout",
          "text": [
            "LLM generation: The Dietary Guidelines for Americans is a set of recommendations for healthy eating patterns for Americans aged 2 and older. It is published jointly by the U.S. Department of Agriculture (USDA) and the U.S. Department of Health and Human Services (HHS) every five years. The guidelines provide evidence-based recommendations for healthy eating patterns, including the types and amounts of foods to consume, as well as foods to limit or avoid. The guidelines aim to promote healthy eating habits and reduce the risk of chronic diseases such as obesity, heart disease, and type 2 diabetes. The 2020-2025 edition of the Dietary Guidelines for Americans is referenced in the provided text.\n"
          ]
        }
      ]
    },
    {
      "cell_type": "code",
      "source": [
        "query = \"What is a Modeling Category in the context of Thrifty Food Plan?\"\n",
        "response = ask(query)\n",
        "response_text = response.choices[0].message.content\n",
        "print(\"LLM generation:\", response_text)"
      ],
      "metadata": {
        "colab": {
          "base_uri": "https://localhost:8080/"
        },
        "id": "RfCBaizjK7ft",
        "outputId": "cc75905d-0259-4f02-f405-648d85023139"
      },
      "execution_count": 13,
      "outputs": [
        {
          "output_type": "stream",
          "name": "stdout",
          "text": [
            "LLM generation: In the context of the Thrifty Food Plan, a Modeling Category refers to a specific group of foods and beverages that are used as inputs in the mathematical optimization model to generate the Thrifty Food Plan Market Baskets. These categories are created based on the food group and subgroups in the Dietary Guidelines for Americans, 2020-2025, and are used to represent a nutritious diet. The Modeling Categories are then used to create the Market Basket Categories, which are the actual categories of foods and beverages that make up the Thrifty Food Plan Market Baskets. For example, the Modeling Category \"processed soy products\" is part of the larger Market Basket Category \"nuts, seeds, and soy products\".\n"
          ]
        }
      ]
    },
    {
      "cell_type": "code",
      "source": [
        "query = \"How many Modeling Categories are there in the Thrifty Food Plan?\"\n",
        "response = ask(query)\n",
        "response_text = response.choices[0].message.content\n",
        "print(\"LLM generation:\", response_text)"
      ],
      "metadata": {
        "colab": {
          "base_uri": "https://localhost:8080/"
        },
        "id": "0QPFNMO9LO19",
        "outputId": "1a1b5fff-c6e8-46a4-b440-d0e133740837"
      },
      "execution_count": 14,
      "outputs": [
        {
          "output_type": "stream",
          "name": "stdout",
          "text": [
            "LLM generation: The provided context does not explicitly state the number of Modeling Categories in the Thrifty Food Plan. However, it does mention that the Market Basket Categories were created based on the Modeling Categories and in consideration of the food group and subgroups in the Dietary Guidelines for Americans, 2020-2025.\n",
            "\n",
            "To find the exact number of Modeling Categories, you may need to refer to Appendix 1 of the Thrifty Food Plan document, which is titled \"Thrifty Food Plan, 2021 Modeling Categories and Description of Foods\" (page 53). This appendix likely provides a detailed list and description of the Modeling Categories used in the Thrifty Food Plan.\n"
          ]
        }
      ]
    }
  ],
  "metadata": {
    "kernelspec": {
      "display_name": "Python 3",
      "language": "python",
      "name": "python3"
    },
    "language_info": {
      "codemirror_mode": {
        "name": "ipython",
        "version": 3
      },
      "file_extension": ".py",
      "mimetype": "text/x-python",
      "name": "python",
      "nbconvert_exporter": "python",
      "pygments_lexer": "ipython3",
      "version": "3.10.8"
    },
    "colab": {
      "provenance": []
    }
  },
  "nbformat": 4,
  "nbformat_minor": 0
}
